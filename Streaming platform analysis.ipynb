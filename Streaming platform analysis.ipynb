{
 "cells": [
  {
   "cell_type": "markdown",
   "id": "5dceb900",
   "metadata": {},
   "source": [
    "Streamimg platform analysis"
   ]
  },
  {
   "cell_type": "code",
   "execution_count": 1,
   "id": "67ce1db3",
   "metadata": {},
   "outputs": [],
   "source": [
    "#import libraries\n",
    "import numpy as np\n",
    "import pandas as pd\n",
    "import matplotlib.pyplot as plt\n",
    "import seaborn as sns\n",
    "import math"
   ]
  },
  {
   "cell_type": "markdown",
   "id": "cdd666f6",
   "metadata": {},
   "source": [
    "Importing dataset"
   ]
  },
  {
   "cell_type": "code",
   "execution_count": 2,
   "id": "b6102864",
   "metadata": {},
   "outputs": [
    {
     "data": {
      "text/html": [
       "<div>\n",
       "<style scoped>\n",
       "    .dataframe tbody tr th:only-of-type {\n",
       "        vertical-align: middle;\n",
       "    }\n",
       "\n",
       "    .dataframe tbody tr th {\n",
       "        vertical-align: top;\n",
       "    }\n",
       "\n",
       "    .dataframe thead th {\n",
       "        text-align: right;\n",
       "    }\n",
       "</style>\n",
       "<table border=\"1\" class=\"dataframe\">\n",
       "  <thead>\n",
       "    <tr style=\"text-align: right;\">\n",
       "      <th></th>\n",
       "      <th>Unnamed: 0</th>\n",
       "      <th>Title</th>\n",
       "      <th>Year</th>\n",
       "      <th>Age</th>\n",
       "      <th>IMDb</th>\n",
       "      <th>Rotten Tomatoes</th>\n",
       "      <th>Netflix</th>\n",
       "      <th>Hulu</th>\n",
       "      <th>Prime Video</th>\n",
       "      <th>Disney+</th>\n",
       "      <th>type</th>\n",
       "    </tr>\n",
       "  </thead>\n",
       "  <tbody>\n",
       "    <tr>\n",
       "      <th>0</th>\n",
       "      <td>0</td>\n",
       "      <td>Breaking Bad</td>\n",
       "      <td>2008</td>\n",
       "      <td>18+</td>\n",
       "      <td>9.5</td>\n",
       "      <td>96%</td>\n",
       "      <td>1</td>\n",
       "      <td>0</td>\n",
       "      <td>0</td>\n",
       "      <td>0</td>\n",
       "      <td>1</td>\n",
       "    </tr>\n",
       "    <tr>\n",
       "      <th>1</th>\n",
       "      <td>1</td>\n",
       "      <td>Stranger Things</td>\n",
       "      <td>2016</td>\n",
       "      <td>16+</td>\n",
       "      <td>8.8</td>\n",
       "      <td>93%</td>\n",
       "      <td>1</td>\n",
       "      <td>0</td>\n",
       "      <td>0</td>\n",
       "      <td>0</td>\n",
       "      <td>1</td>\n",
       "    </tr>\n",
       "    <tr>\n",
       "      <th>2</th>\n",
       "      <td>2</td>\n",
       "      <td>Money Heist</td>\n",
       "      <td>2017</td>\n",
       "      <td>18+</td>\n",
       "      <td>8.4</td>\n",
       "      <td>91%</td>\n",
       "      <td>1</td>\n",
       "      <td>0</td>\n",
       "      <td>0</td>\n",
       "      <td>0</td>\n",
       "      <td>1</td>\n",
       "    </tr>\n",
       "    <tr>\n",
       "      <th>3</th>\n",
       "      <td>3</td>\n",
       "      <td>Sherlock</td>\n",
       "      <td>2010</td>\n",
       "      <td>16+</td>\n",
       "      <td>9.1</td>\n",
       "      <td>78%</td>\n",
       "      <td>1</td>\n",
       "      <td>0</td>\n",
       "      <td>0</td>\n",
       "      <td>0</td>\n",
       "      <td>1</td>\n",
       "    </tr>\n",
       "    <tr>\n",
       "      <th>4</th>\n",
       "      <td>4</td>\n",
       "      <td>Better Call Saul</td>\n",
       "      <td>2015</td>\n",
       "      <td>18+</td>\n",
       "      <td>8.7</td>\n",
       "      <td>97%</td>\n",
       "      <td>1</td>\n",
       "      <td>0</td>\n",
       "      <td>0</td>\n",
       "      <td>0</td>\n",
       "      <td>1</td>\n",
       "    </tr>\n",
       "  </tbody>\n",
       "</table>\n",
       "</div>"
      ],
      "text/plain": [
       "   Unnamed: 0             Title  Year  Age  IMDb Rotten Tomatoes  Netflix  \\\n",
       "0           0      Breaking Bad  2008  18+   9.5             96%        1   \n",
       "1           1   Stranger Things  2016  16+   8.8             93%        1   \n",
       "2           2       Money Heist  2017  18+   8.4             91%        1   \n",
       "3           3          Sherlock  2010  16+   9.1             78%        1   \n",
       "4           4  Better Call Saul  2015  18+   8.7             97%        1   \n",
       "\n",
       "   Hulu  Prime Video  Disney+  type  \n",
       "0     0            0        0     1  \n",
       "1     0            0        0     1  \n",
       "2     0            0        0     1  \n",
       "3     0            0        0     1  \n",
       "4     0            0        0     1  "
      ]
     },
     "execution_count": 2,
     "metadata": {},
     "output_type": "execute_result"
    }
   ],
   "source": [
    "#importing dataset\n",
    "data=pd.read_csv('D:\\\\Msc Data Science\\\\tv_shows.csv')\n",
    "data.head()"
   ]
  },
  {
   "cell_type": "markdown",
   "id": "ec025c84",
   "metadata": {},
   "source": [
    "Cleaning and processing data"
   ]
  },
  {
   "cell_type": "code",
   "execution_count": 3,
   "id": "30ae9e58",
   "metadata": {},
   "outputs": [],
   "source": [
    "#remove unnecessary column 'type'\n",
    "data=data.drop(['Unnamed: 0','type'],axis=1)"
   ]
  },
  {
   "cell_type": "code",
   "execution_count": 4,
   "id": "54bb7019",
   "metadata": {},
   "outputs": [
    {
     "name": "stdout",
     "output_type": "stream",
     "text": [
      "<class 'pandas.core.frame.DataFrame'>\n",
      "RangeIndex: 5611 entries, 0 to 5610\n",
      "Data columns (total 9 columns):\n",
      " #   Column           Non-Null Count  Dtype  \n",
      "---  ------           --------------  -----  \n",
      " 0   Title            5611 non-null   object \n",
      " 1   Year             5611 non-null   int64  \n",
      " 2   Age              3165 non-null   object \n",
      " 3   IMDb             4450 non-null   float64\n",
      " 4   Rotten Tomatoes  1011 non-null   object \n",
      " 5   Netflix          5611 non-null   int64  \n",
      " 6   Hulu             5611 non-null   int64  \n",
      " 7   Prime Video      5611 non-null   int64  \n",
      " 8   Disney+          5611 non-null   int64  \n",
      "dtypes: float64(1), int64(5), object(3)\n",
      "memory usage: 394.6+ KB\n"
     ]
    },
    {
     "data": {
      "text/plain": [
       "None"
      ]
     },
     "metadata": {},
     "output_type": "display_data"
    }
   ],
   "source": [
    "display(data.info())"
   ]
  },
  {
   "cell_type": "code",
   "execution_count": 5,
   "id": "6450c13d",
   "metadata": {},
   "outputs": [
    {
     "data": {
      "text/html": [
       "<div>\n",
       "<style scoped>\n",
       "    .dataframe tbody tr th:only-of-type {\n",
       "        vertical-align: middle;\n",
       "    }\n",
       "\n",
       "    .dataframe tbody tr th {\n",
       "        vertical-align: top;\n",
       "    }\n",
       "\n",
       "    .dataframe thead th {\n",
       "        text-align: right;\n",
       "    }\n",
       "</style>\n",
       "<table border=\"1\" class=\"dataframe\">\n",
       "  <thead>\n",
       "    <tr style=\"text-align: right;\">\n",
       "      <th></th>\n",
       "      <th>Title</th>\n",
       "      <th>Year</th>\n",
       "      <th>Age</th>\n",
       "      <th>IMDb</th>\n",
       "      <th>Rotten Tomatoes</th>\n",
       "      <th>Netflix</th>\n",
       "      <th>Hulu</th>\n",
       "      <th>Prime Video</th>\n",
       "      <th>Disney+</th>\n",
       "    </tr>\n",
       "  </thead>\n",
       "  <tbody>\n",
       "    <tr>\n",
       "      <th>3119</th>\n",
       "      <td>Abandoned</td>\n",
       "      <td>2012</td>\n",
       "      <td>NaN</td>\n",
       "      <td>NaN</td>\n",
       "      <td>NaN</td>\n",
       "      <td>0</td>\n",
       "      <td>1</td>\n",
       "      <td>0</td>\n",
       "      <td>0</td>\n",
       "    </tr>\n",
       "    <tr>\n",
       "      <th>2804</th>\n",
       "      <td>Abandoned</td>\n",
       "      <td>2016</td>\n",
       "      <td>16+</td>\n",
       "      <td>8.4</td>\n",
       "      <td>NaN</td>\n",
       "      <td>0</td>\n",
       "      <td>1</td>\n",
       "      <td>0</td>\n",
       "      <td>0</td>\n",
       "    </tr>\n",
       "    <tr>\n",
       "      <th>2580</th>\n",
       "      <td>American Gladiators</td>\n",
       "      <td>1989</td>\n",
       "      <td>7+</td>\n",
       "      <td>6.5</td>\n",
       "      <td>NaN</td>\n",
       "      <td>0</td>\n",
       "      <td>1</td>\n",
       "      <td>0</td>\n",
       "      <td>0</td>\n",
       "    </tr>\n",
       "    <tr>\n",
       "      <th>3044</th>\n",
       "      <td>American Gladiators</td>\n",
       "      <td>2008</td>\n",
       "      <td>NaN</td>\n",
       "      <td>5.6</td>\n",
       "      <td>NaN</td>\n",
       "      <td>0</td>\n",
       "      <td>1</td>\n",
       "      <td>0</td>\n",
       "      <td>0</td>\n",
       "    </tr>\n",
       "    <tr>\n",
       "      <th>3776</th>\n",
       "      <td>American Gothic</td>\n",
       "      <td>2016</td>\n",
       "      <td>16+</td>\n",
       "      <td>6.7</td>\n",
       "      <td>58%</td>\n",
       "      <td>0</td>\n",
       "      <td>0</td>\n",
       "      <td>1</td>\n",
       "      <td>0</td>\n",
       "    </tr>\n",
       "    <tr>\n",
       "      <th>2271</th>\n",
       "      <td>American Gothic</td>\n",
       "      <td>1995</td>\n",
       "      <td>7+</td>\n",
       "      <td>8.1</td>\n",
       "      <td>67%</td>\n",
       "      <td>0</td>\n",
       "      <td>1</td>\n",
       "      <td>0</td>\n",
       "      <td>0</td>\n",
       "    </tr>\n",
       "    <tr>\n",
       "      <th>2226</th>\n",
       "      <td>Baby Daddy</td>\n",
       "      <td>2012</td>\n",
       "      <td>16+</td>\n",
       "      <td>7.3</td>\n",
       "      <td>NaN</td>\n",
       "      <td>0</td>\n",
       "      <td>1</td>\n",
       "      <td>0</td>\n",
       "      <td>0</td>\n",
       "    </tr>\n",
       "    <tr>\n",
       "      <th>1370</th>\n",
       "      <td>Baby Daddy</td>\n",
       "      <td>2015</td>\n",
       "      <td>16+</td>\n",
       "      <td>6.0</td>\n",
       "      <td>78%</td>\n",
       "      <td>1</td>\n",
       "      <td>0</td>\n",
       "      <td>0</td>\n",
       "      <td>0</td>\n",
       "    </tr>\n",
       "    <tr>\n",
       "      <th>4397</th>\n",
       "      <td>Baby Talk</td>\n",
       "      <td>1991</td>\n",
       "      <td>all</td>\n",
       "      <td>4.2</td>\n",
       "      <td>NaN</td>\n",
       "      <td>0</td>\n",
       "      <td>0</td>\n",
       "      <td>1</td>\n",
       "      <td>0</td>\n",
       "    </tr>\n",
       "    <tr>\n",
       "      <th>5235</th>\n",
       "      <td>Baby Talk</td>\n",
       "      <td>2017</td>\n",
       "      <td>NaN</td>\n",
       "      <td>NaN</td>\n",
       "      <td>NaN</td>\n",
       "      <td>0</td>\n",
       "      <td>0</td>\n",
       "      <td>1</td>\n",
       "      <td>0</td>\n",
       "    </tr>\n",
       "    <tr>\n",
       "      <th>2193</th>\n",
       "      <td>Battlestar Galactica</td>\n",
       "      <td>1978</td>\n",
       "      <td>7+</td>\n",
       "      <td>7.2</td>\n",
       "      <td>33%</td>\n",
       "      <td>0</td>\n",
       "      <td>1</td>\n",
       "      <td>0</td>\n",
       "      <td>0</td>\n",
       "    </tr>\n",
       "    <tr>\n",
       "      <th>1989</th>\n",
       "      <td>Battlestar Galactica</td>\n",
       "      <td>2004</td>\n",
       "      <td>16+</td>\n",
       "      <td>8.6</td>\n",
       "      <td>82%</td>\n",
       "      <td>0</td>\n",
       "      <td>1</td>\n",
       "      <td>0</td>\n",
       "      <td>0</td>\n",
       "    </tr>\n",
       "    <tr>\n",
       "      <th>2185</th>\n",
       "      <td>Ben 10</td>\n",
       "      <td>2005</td>\n",
       "      <td>7+</td>\n",
       "      <td>7.2</td>\n",
       "      <td>NaN</td>\n",
       "      <td>0</td>\n",
       "      <td>1</td>\n",
       "      <td>0</td>\n",
       "      <td>0</td>\n",
       "    </tr>\n",
       "    <tr>\n",
       "      <th>734</th>\n",
       "      <td>Ben 10</td>\n",
       "      <td>2016</td>\n",
       "      <td>7+</td>\n",
       "      <td>2.5</td>\n",
       "      <td>NaN</td>\n",
       "      <td>1</td>\n",
       "      <td>0</td>\n",
       "      <td>0</td>\n",
       "      <td>0</td>\n",
       "    </tr>\n",
       "    <tr>\n",
       "      <th>2246</th>\n",
       "      <td>Bleak House</td>\n",
       "      <td>2005</td>\n",
       "      <td>16+</td>\n",
       "      <td>8.3</td>\n",
       "      <td>NaN</td>\n",
       "      <td>0</td>\n",
       "      <td>1</td>\n",
       "      <td>0</td>\n",
       "      <td>0</td>\n",
       "    </tr>\n",
       "    <tr>\n",
       "      <th>2906</th>\n",
       "      <td>Bleak House</td>\n",
       "      <td>1985</td>\n",
       "      <td>NaN</td>\n",
       "      <td>7.4</td>\n",
       "      <td>NaN</td>\n",
       "      <td>0</td>\n",
       "      <td>1</td>\n",
       "      <td>1</td>\n",
       "      <td>0</td>\n",
       "    </tr>\n",
       "    <tr>\n",
       "      <th>629</th>\n",
       "      <td>Charmed</td>\n",
       "      <td>2018</td>\n",
       "      <td>16+</td>\n",
       "      <td>4.5</td>\n",
       "      <td>NaN</td>\n",
       "      <td>1</td>\n",
       "      <td>0</td>\n",
       "      <td>0</td>\n",
       "      <td>0</td>\n",
       "    </tr>\n",
       "    <tr>\n",
       "      <th>133</th>\n",
       "      <td>Charmed</td>\n",
       "      <td>1998</td>\n",
       "      <td>16+</td>\n",
       "      <td>7.1</td>\n",
       "      <td>75%</td>\n",
       "      <td>1</td>\n",
       "      <td>0</td>\n",
       "      <td>0</td>\n",
       "      <td>0</td>\n",
       "    </tr>\n",
       "    <tr>\n",
       "      <th>4437</th>\n",
       "      <td>Clifford the Big Red Dog</td>\n",
       "      <td>2019</td>\n",
       "      <td>all</td>\n",
       "      <td>5.9</td>\n",
       "      <td>NaN</td>\n",
       "      <td>0</td>\n",
       "      <td>0</td>\n",
       "      <td>1</td>\n",
       "      <td>0</td>\n",
       "    </tr>\n",
       "    <tr>\n",
       "      <th>3907</th>\n",
       "      <td>Clifford the Big Red Dog</td>\n",
       "      <td>2000</td>\n",
       "      <td>all</td>\n",
       "      <td>6.6</td>\n",
       "      <td>NaN</td>\n",
       "      <td>0</td>\n",
       "      <td>0</td>\n",
       "      <td>1</td>\n",
       "      <td>0</td>\n",
       "    </tr>\n",
       "  </tbody>\n",
       "</table>\n",
       "</div>"
      ],
      "text/plain": [
       "                         Title  Year  Age  IMDb Rotten Tomatoes  Netflix  \\\n",
       "3119                 Abandoned  2012  NaN   NaN             NaN        0   \n",
       "2804                 Abandoned  2016  16+   8.4             NaN        0   \n",
       "2580       American Gladiators  1989   7+   6.5             NaN        0   \n",
       "3044       American Gladiators  2008  NaN   5.6             NaN        0   \n",
       "3776           American Gothic  2016  16+   6.7             58%        0   \n",
       "2271           American Gothic  1995   7+   8.1             67%        0   \n",
       "2226                Baby Daddy  2012  16+   7.3             NaN        0   \n",
       "1370                Baby Daddy  2015  16+   6.0             78%        1   \n",
       "4397                 Baby Talk  1991  all   4.2             NaN        0   \n",
       "5235                 Baby Talk  2017  NaN   NaN             NaN        0   \n",
       "2193      Battlestar Galactica  1978   7+   7.2             33%        0   \n",
       "1989      Battlestar Galactica  2004  16+   8.6             82%        0   \n",
       "2185                    Ben 10  2005   7+   7.2             NaN        0   \n",
       "734                     Ben 10  2016   7+   2.5             NaN        1   \n",
       "2246               Bleak House  2005  16+   8.3             NaN        0   \n",
       "2906               Bleak House  1985  NaN   7.4             NaN        0   \n",
       "629                    Charmed  2018  16+   4.5             NaN        1   \n",
       "133                    Charmed  1998  16+   7.1             75%        1   \n",
       "4437  Clifford the Big Red Dog  2019  all   5.9             NaN        0   \n",
       "3907  Clifford the Big Red Dog  2000  all   6.6             NaN        0   \n",
       "\n",
       "      Hulu  Prime Video  Disney+  \n",
       "3119     1            0        0  \n",
       "2804     1            0        0  \n",
       "2580     1            0        0  \n",
       "3044     1            0        0  \n",
       "3776     0            1        0  \n",
       "2271     1            0        0  \n",
       "2226     1            0        0  \n",
       "1370     0            0        0  \n",
       "4397     0            1        0  \n",
       "5235     0            1        0  \n",
       "2193     1            0        0  \n",
       "1989     1            0        0  \n",
       "2185     1            0        0  \n",
       "734      0            0        0  \n",
       "2246     1            0        0  \n",
       "2906     1            1        0  \n",
       "629      0            0        0  \n",
       "133      0            0        0  \n",
       "4437     0            1        0  \n",
       "3907     0            1        0  "
      ]
     },
     "metadata": {},
     "output_type": "display_data"
    }
   ],
   "source": [
    "#removing duplicates\n",
    "duplicate=data.duplicated(subset='Title',keep=False)\n",
    "duplicate_value=data[duplicate].sort_values('Title')\n",
    "display(duplicate_value.head(20))"
   ]
  },
  {
   "cell_type": "code",
   "execution_count": 6,
   "id": "f6739a1c",
   "metadata": {},
   "outputs": [
    {
     "data": {
      "text/plain": [
       "0"
      ]
     },
     "execution_count": 6,
     "metadata": {},
     "output_type": "execute_result"
    }
   ],
   "source": [
    "#checking if any duplicatevalues\n",
    "dupe=data.duplicated()\n",
    "dupe.sum()"
   ]
  },
  {
   "cell_type": "markdown",
   "id": "fa7036c5",
   "metadata": {},
   "source": [
    "Exploring Data"
   ]
  },
  {
   "cell_type": "raw",
   "id": "984be9a7",
   "metadata": {},
   "source": [
    "What is the total number of movies each platform has?"
   ]
  },
  {
   "cell_type": "code",
   "execution_count": 7,
   "id": "f428e1b8",
   "metadata": {},
   "outputs": [],
   "source": [
    "#total number of movies each platform has\n",
    "num_netflix=data['Netflix'].sum()\n",
    "num_hulu=data['Hulu'].sum()\n",
    "num_prime=data['Prime Video'].sum()\n",
    "num_disney=data['Disney+'].sum()"
   ]
  },
  {
   "cell_type": "code",
   "execution_count": 8,
   "id": "31f53c0d",
   "metadata": {},
   "outputs": [
    {
     "data": {
      "image/png": "[encoded data removed]",
      "text/plain": [
       "<Figure size 432x288 with 1 Axes>"
      ]
     },
     "metadata": {},
     "output_type": "display_data"
    },
    {
     "name": "stdout",
     "output_type": "stream",
     "text": [
      " Netflix offers 1931 tv-shows\n",
      " Hulu offers 1754 tv-shows\n",
      " Prime offers 2144 tv-shows\n",
      " Disney+ offers 180 tv-shows\n"
     ]
    }
   ],
   "source": [
    "market_shares=[num_netflix,num_hulu,num_prime,num_disney]\n",
    "labels=('Netflix','Hulu','Prime Video','Disney+')\n",
    "sep=(0.05,0.05,0.05,0.05)\n",
    "fig,ax=plt.subplots()\n",
    "ax.pie(market_shares,\n",
    "      explode=sep,\n",
    "      labels=labels,\n",
    "      autopct='%.1f%%',\n",
    "      radius=2,\n",
    "      textprops={'fontsize':14})\n",
    "\n",
    "plt.show()\n",
    "\n",
    "print(' Netflix offers ' + str(num_netflix) + ' tv-shows')\n",
    "print(' Hulu offers ' + str(num_hulu) + ' tv-shows')\n",
    "print(' Prime offers ' + str(num_prime) + ' tv-shows')\n",
    "print(' Disney+ offers ' + str(num_disney) + ' tv-shows')"
   ]
  },
  {
   "cell_type": "markdown",
   "id": "6e864e12",
   "metadata": {},
   "source": [
    "Prime offers largest quantity of tv-shows,followed by hulu and netflix and disney has significantly less tv-shows than the competitors with only 180 shows"
   ]
  },
  {
   "cell_type": "raw",
   "id": "8c6b3807",
   "metadata": {},
   "source": [
    "Who offers the most highly rated tv shows?"
   ]
  },
  {
   "cell_type": "code",
   "execution_count": 9,
   "id": "8ba9ecea",
   "metadata": {},
   "outputs": [],
   "source": [
    "netflix_shows=data.loc[data['Netflix'] == 1].drop(['Hulu','Prime Video','Disney+'],axis=1)\n",
    "hulu_shows=data.loc[data['Hulu'] == 1].drop(['Netflix','Prime Video','Disney+'],axis=1)\n",
    "prime_shows=data.loc[data['Prime Video'] == 1].drop(['Netflix','Hulu','Disney+'],axis=1)\n",
    "disney_shows=data.loc[data['Disney+'] == 1].drop(['Hulu','Prime Video','Netflix'],axis=1)"
   ]
  },
  {
   "cell_type": "code",
   "execution_count": 10,
   "id": "968759fb",
   "metadata": {},
   "outputs": [],
   "source": [
    "top_netflix_shows=netflix_shows['IMDb'] > 8\n",
    "top_hulu_shows=hulu_shows['IMDb'] > 8\n",
    "top_prime_shows=prime_shows['IMDb'] > 8\n",
    "top_disney_shows=disney_shows['IMDb'] > 8\n",
    " \n",
    "top_rated_shows=pd.DataFrame({\n",
    "    'Platforms':['Netflix',\n",
    "                'Hulu',\n",
    "                'Prime Video',\n",
    "                'Disney'],\n",
    "    'Total highly rated shows' :[top_netflix_shows.sum(),\n",
    "                                 top_hulu_shows.sum(),\n",
    "                                 top_prime_shows.sum(),\n",
    "                                 top_disney_shows.sum()]})"
   ]
  },
  {
   "cell_type": "code",
   "execution_count": 11,
   "id": "67e9879b",
   "metadata": {},
   "outputs": [
    {
     "data": {
      "image/png": "[encoded data removed]",
      "text/plain": [
       "<Figure size 432x288 with 1 Axes>"
      ]
     },
     "metadata": {
      "needs_background": "light"
     },
     "output_type": "display_data"
    },
    {
     "data": {
      "text/html": [
       "<div>\n",
       "<style scoped>\n",
       "    .dataframe tbody tr th:only-of-type {\n",
       "        vertical-align: middle;\n",
       "    }\n",
       "\n",
       "    .dataframe tbody tr th {\n",
       "        vertical-align: top;\n",
       "    }\n",
       "\n",
       "    .dataframe thead th {\n",
       "        text-align: right;\n",
       "    }\n",
       "</style>\n",
       "<table border=\"1\" class=\"dataframe\">\n",
       "  <thead>\n",
       "    <tr style=\"text-align: right;\">\n",
       "      <th></th>\n",
       "      <th>Total highly rated shows</th>\n",
       "    </tr>\n",
       "    <tr>\n",
       "      <th>Platforms</th>\n",
       "      <th></th>\n",
       "    </tr>\n",
       "  </thead>\n",
       "  <tbody>\n",
       "    <tr>\n",
       "      <th>Netflix</th>\n",
       "      <td>383</td>\n",
       "    </tr>\n",
       "    <tr>\n",
       "      <th>Hulu</th>\n",
       "      <td>279</td>\n",
       "    </tr>\n",
       "    <tr>\n",
       "      <th>Prime Video</th>\n",
       "      <td>293</td>\n",
       "    </tr>\n",
       "    <tr>\n",
       "      <th>Disney</th>\n",
       "      <td>30</td>\n",
       "    </tr>\n",
       "  </tbody>\n",
       "</table>\n",
       "</div>"
      ],
      "text/plain": [
       "             Total highly rated shows\n",
       "Platforms                            \n",
       "Netflix                           383\n",
       "Hulu                              279\n",
       "Prime Video                       293\n",
       "Disney                             30"
      ]
     },
     "metadata": {},
     "output_type": "display_data"
    }
   ],
   "source": [
    "sns.barplot(x=top_rated_shows['Platforms'],\n",
    "           y=top_rated_shows['Total highly rated shows'],\n",
    "           data=top_rated_shows)\n",
    "plt.xlabel('Platforms')\n",
    "plt.ylabel('Total shows with 8+ Ratings')\n",
    "plt.title('Platforms with Highly Rated Shows')\n",
    "plt.show()\n",
    "\n",
    "top_rated_shows = top_rated_shows.set_index('Platforms')\n",
    "display(top_rated_shows)"
   ]
  },
  {
   "cell_type": "markdown",
   "id": "32e7cbfc",
   "metadata": {},
   "source": [
    "Netflix reign supreme in the sense of having access to the most highly rated tv-shows, \n",
    "followed by Prime and Hulu who are nearly equal, and \n",
    "to no surprise Disney have significantly the least number of highly rated tv-shows."
   ]
  },
  {
   "cell_type": "raw",
   "id": "7cb13d8c",
   "metadata": {},
   "source": [
    "Who owns the current highest-rated TV shows across the four streaming platforms?"
   ]
  },
  {
   "cell_type": "code",
   "execution_count": 12,
   "id": "f38871be",
   "metadata": {},
   "outputs": [
    {
     "data": {
      "text/plain": [
       "<Figure size 576x576 with 0 Axes>"
      ]
     },
     "metadata": {},
     "output_type": "display_data"
    },
    {
     "data": {
      "image/png": "[encoded data removed]",
      "text/plain": [
       "<Figure size 455.75x360 with 1 Axes>"
      ]
     },
     "metadata": {
      "needs_background": "light"
     },
     "output_type": "display_data"
    }
   ],
   "source": [
    "data['platform'] = data[['Netflix', 'Hulu', 'Prime Video', 'Disney+']].idxmax(axis=1)\n",
    "\n",
    "overall_top_10 = data.sort_values(by='IMDb', ascending=False).head(10)\n",
    "\n",
    "plt.figure(figsize=(8,8))\n",
    "sns.catplot(x='IMDb', y='Title', data=overall_top_10,hue='platform', kind='bar')\n",
    "plt.show()"
   ]
  },
  {
   "cell_type": "markdown",
   "id": "1fdddcda",
   "metadata": {},
   "source": [
    "Hulu have access to 'Destiny' which is the highest rated show available across the platforms, however Prime Video have access to 4/10 of the highest rated shows, suggesting they are the optimal choice."
   ]
  },
  {
   "cell_type": "raw",
   "id": "1b5274ce",
   "metadata": {},
   "source": [
    "What are the best TV shows on offer for each streaming platform, according to IMDb?"
   ]
  },
  {
   "cell_type": "code",
   "execution_count": 13,
   "id": "2676a323",
   "metadata": {},
   "outputs": [
    {
     "data": {
      "image/png": "[encoded data removed]",
      "text/plain": [
       "<Figure size 576x288 with 1 Axes>"
      ]
     },
     "metadata": {
      "needs_background": "light"
     },
     "output_type": "display_data"
    }
   ],
   "source": [
    "#Best tv-shows \n",
    "netflix_top_10=netflix_shows.sort_values(by='IMDb',ascending=False).head(10)\n",
    "plt.figure(figsize=(8,4))\n",
    "sns.barplot(x='IMDb',y='Title',data=netflix_top_10,palette='bright')\n",
    "plt.xlabel('IMBd Score')\n",
    "plt.ylabel('TV Show')\n",
    "plt.title('Highest Rated Netflix Shows')\n",
    "plt.show()"
   ]
  },
  {
   "cell_type": "code",
   "execution_count": 14,
   "id": "bae19f13",
   "metadata": {},
   "outputs": [
    {
     "data": {
      "image/png": "[encoded data removed]",
      "text/plain": [
       "<Figure size 576x288 with 1 Axes>"
      ]
     },
     "metadata": {
      "needs_background": "light"
     },
     "output_type": "display_data"
    }
   ],
   "source": [
    "hulu_top_10=hulu_shows.sort_values(by='IMDb',ascending=False).head(10)\n",
    "plt.figure(figsize=(8,4))\n",
    "sns.barplot(x='IMDb',y='Title',data=hulu_top_10,palette='bright')\n",
    "plt.xlabel('IMBd Score')\n",
    "plt.ylabel('TV Show')\n",
    "plt.title('Highest Rated Hulu Shows')\n",
    "plt.show()"
   ]
  },
  {
   "cell_type": "code",
   "execution_count": 15,
   "id": "cfd24f8a",
   "metadata": {},
   "outputs": [
    {
     "data": {
      "image/png": "[encoded data removed]",
      "text/plain": [
       "<Figure size 576x288 with 1 Axes>"
      ]
     },
     "metadata": {
      "needs_background": "light"
     },
     "output_type": "display_data"
    }
   ],
   "source": [
    "prime_top_10=prime_shows.sort_values(by='IMDb',ascending=False).head(10)\n",
    "plt.figure(figsize=(8,4))\n",
    "sns.barplot(x='IMDb',y='Title',data=prime_top_10,palette='bright')\n",
    "plt.xlabel('IMBd Score')\n",
    "plt.ylabel('TV Show')\n",
    "plt.title('Highest Rated prime Shows')\n",
    "plt.show()"
   ]
  },
  {
   "cell_type": "code",
   "execution_count": 16,
   "id": "1614058d",
   "metadata": {},
   "outputs": [
    {
     "data": {
      "image/png": "[encoded data removed]",
      "text/plain": [
       "<Figure size 576x288 with 1 Axes>"
      ]
     },
     "metadata": {
      "needs_background": "light"
     },
     "output_type": "display_data"
    }
   ],
   "source": [
    "disney_top_10=disney_shows.sort_values(by='IMDb',ascending=False).head(10)\n",
    "plt.figure(figsize=(8,4))\n",
    "sns.barplot(x='IMDb',y='Title',data=disney_top_10,palette='bright')\n",
    "plt.xlabel('IMBd Score')\n",
    "plt.ylabel('TV Show')\n",
    "plt.title('Highest Rated Disney+ Shows')\n",
    "plt.show()"
   ]
  },
  {
   "cell_type": "markdown",
   "id": "12330db8",
   "metadata": {},
   "source": [
    "On inspection, consumers can form opinions on who to subscribe to based on which shows they are meaning to watch."
   ]
  },
  {
   "cell_type": "raw",
   "id": "b939d0cb",
   "metadata": {},
   "source": [
    "Which services are most suitable for children?"
   ]
  },
  {
   "cell_type": "code",
   "execution_count": 17,
   "id": "41e1a335",
   "metadata": {},
   "outputs": [
    {
     "name": "stdout",
     "output_type": "stream",
     "text": [
      "['18+' '16+' '7+' nan 'all' '13+']\n"
     ]
    }
   ],
   "source": [
    "#which are the age groups\n",
    "print(data.Age.unique())"
   ]
  },
  {
   "cell_type": "code",
   "execution_count": 18,
   "id": "be19b75a",
   "metadata": {},
   "outputs": [],
   "source": [
    "netflix_child=netflix_shows[netflix_shows['Age'] == 'all']\n",
    "hulu_child=hulu_shows[hulu_shows['Age'] == 'all']\n",
    "prime_child=prime_shows[prime_shows['Age'] == 'all']\n",
    "disney_child=disney_shows[disney_shows['Age'] == 'all']\n",
    "\n",
    "netflix1=len(netflix_child['Title'])\n",
    "hulu1=len(hulu_child['Title'])\n",
    "prime1=len(prime_child['Title'])\n",
    "disney1=len(disney_child['Title'])\n",
    "\n",
    "children_sum=({\n",
    "    'platforms' : ['Netflix',\n",
    "                 'Hulu',\n",
    "                 'Prime Video',\n",
    "                 'Disney'],\n",
    "    'sums':[netflix1,hulu1,prime1,disney1]\n",
    "})"
   ]
  },
  {
   "cell_type": "code",
   "execution_count": 22,
   "id": "244d25f8",
   "metadata": {
    "scrolled": true
   },
   "outputs": [
    {
     "data": {
      "image/png": "[encoded data removed]",
      "text/plain": [
       "<Figure size 432x288 with 1 Axes>"
      ]
     },
     "metadata": {
      "needs_background": "light"
     },
     "output_type": "display_data"
    },
    {
     "name": "stdout",
     "output_type": "stream",
     "text": [
      "Netflix has 171 tv-shows for children\n",
      "Hulu has 159 tv-shows for children\n",
      "Prime has 192 tv-shows for children\n",
      "Disney+ has 81 tv-shows for children\n"
     ]
    }
   ],
   "source": [
    "sns.barplot(x=children_sum['platforms'],\n",
    "           y=children_sum['sums'])\n",
    "plt.xlabel('Platforms')\n",
    "plt.ylabel('Number of TV-shows suitable for children')\n",
    "plt.title('Number of TV-shows suitable for childre per platform')\n",
    "plt.show()\n",
    "\n",
    "print('Netflix has ' + str(netflix1) + ' tv-shows for children')\n",
    "print('Hulu has ' + str(hulu1) + ' tv-shows for children')\n",
    "print('Prime has ' + str(prime1) + ' tv-shows for children')\n",
    "print('Disney+ has ' + str(disney1) + ' tv-shows for children')"
   ]
  },
  {
   "cell_type": "markdown",
   "id": "ec4a4aaf",
   "metadata": {},
   "source": [
    "Prime has the most tv-shows suitable for children, but what about concentration of tv-shows for children, as the platform with the highest concentration is likely to be much more tailored towards children and have tv-shows that are made specifically for children"
   ]
  },
  {
   "cell_type": "raw",
   "id": "9c3ffc84",
   "metadata": {},
   "source": [
    "which platform has the highest concentration of tv-shows for children?"
   ]
  },
  {
   "cell_type": "code",
   "execution_count": 20,
   "id": "01cf44eb",
   "metadata": {},
   "outputs": [],
   "source": [
    "ratio1_netflix=netflix1/num_netflix\n",
    "ratio1_hulu=hulu1/num_hulu\n",
    "ratio1_prime=prime1/num_prime\n",
    "ratio1_disney=disney1/num_disney\n",
    "\n",
    "children_show_ratios=({\n",
    "    'platforms' : ['Netflix',\n",
    "                 'Hulu',\n",
    "                 'Prime Video',\n",
    "                 'Disney'],\n",
    "    'ratios':[ratio1_netflix,ratio1_hulu,ratio1_prime,ratio1_disney]\n",
    "})"
   ]
  },
  {
   "cell_type": "code",
   "execution_count": 21,
   "id": "0b1c8cd7",
   "metadata": {},
   "outputs": [
    {
     "data": {
      "image/png": "[encoded data removed]",
      "text/plain": [
       "<Figure size 720x720 with 1 Axes>"
      ]
     },
     "metadata": {
      "needs_background": "light"
     },
     "output_type": "display_data"
    }
   ],
   "source": [
    "plt.figure(figsize=(10,10))\n",
    "sns.barplot(x = children_show_ratios['platforms'],\n",
    "           y = children_show_ratios['ratios'],\n",
    "           color='blue')\n",
    "\n",
    "plt.xlabel('Platforms')\n",
    "plt.ylabel('Ratio of Child Suitable TV-Shows')\n",
    "plt.title('Ratio of Child Suitable TV-Shows per Platform')\n",
    "\n",
    "plt.show()"
   ]
  },
  {
   "cell_type": "markdown",
   "id": "3750063f",
   "metadata": {},
   "source": [
    "Evidently Disney+ is much more child-friendly than the 3 alternatives, with a 4-fold greater difference in the ratio of child-friendly tv-shows on Disney+ in comparison."
   ]
  },
  {
   "cell_type": "markdown",
   "id": "aa625acd",
   "metadata": {},
   "source": [
    "Conclusion: Although Prime offer the largest number of tv-shows, if you prioritise quality over quantity then Netflix is the optimal choice with the most and highly concentrated number of highly rated TV shows. On the other hand, if you are satisfying the needs of your children then Disney+ is a tremendous subscription as it is heavily tailored towards children."
   ]
  },
  {
   "cell_type": "code",
   "execution_count": null,
   "id": "c14b06df",
   "metadata": {},
   "outputs": [],
   "source": []
  }
 ],
 "metadata": {
  "kernelspec": {
   "display_name": "Python 3 (ipykernel)",
   "language": "python",
   "name": "python3"
  },
  "language_info": {
   "codemirror_mode": {
    "name": "ipython",
    "version": 3
   },
   "file_extension": ".py",
   "mimetype": "text/x-python",
   "name": "python",
   "nbconvert_exporter": "python",
   "pygments_lexer": "ipython3",
   "version": "3.9.12"
  }
 },
 "nbformat": 4,
 "nbformat_minor": 5
}
